{
  "nbformat": 4,
  "nbformat_minor": 0,
  "metadata": {
    "colab": {
      "provenance": []
    },
    "kernelspec": {
      "name": "python3",
      "display_name": "Python 3"
    },
    "language_info": {
      "name": "python"
    }
  },
  "cells": [
    {
      "cell_type": "code",
      "metadata": {
        "colab": {
          "base_uri": "https://localhost:8080/"
        },
        "id": "35O2-GzmjmqY",
        "outputId": "82b90042-5725-4ddb-dd34-8597a7578a6a"
      },
      "source": [
        "pip install -U git+https://github.com/PrithivirajDamodaran/Gramformer.git\n"
      ],
      "execution_count": null,
      "outputs": [
        {
          "output_type": "stream",
          "name": "stdout",
          "text": [
            "Looking in indexes: https://pypi.org/simple, https://us-python.pkg.dev/colab-wheels/public/simple/\n",
            "Collecting git+https://github.com/PrithivirajDamodaran/Gramformer.git\n",
            "  Cloning https://github.com/PrithivirajDamodaran/Gramformer.git to /tmp/pip-req-build-3vnavjaf\n",
            "  Running command git clone -q https://github.com/PrithivirajDamodaran/Gramformer.git /tmp/pip-req-build-3vnavjaf\n",
            "Collecting transformers\n",
            "  Downloading transformers-4.24.0-py3-none-any.whl (5.5 MB)\n",
            "\u001b[K     |████████████████████████████████| 5.5 MB 22.7 MB/s \n",
            "\u001b[?25hCollecting sentencepiece\n",
            "  Downloading sentencepiece-0.1.97-cp37-cp37m-manylinux_2_17_x86_64.manylinux2014_x86_64.whl (1.3 MB)\n",
            "\u001b[K     |████████████████████████████████| 1.3 MB 45.2 MB/s \n",
            "\u001b[?25hCollecting python-Levenshtein\n",
            "  Downloading python_Levenshtein-0.20.8-py3-none-any.whl (9.4 kB)\n",
            "Collecting fuzzywuzzy\n",
            "  Downloading fuzzywuzzy-0.18.0-py2.py3-none-any.whl (18 kB)\n",
            "Collecting tokenizers\n",
            "  Downloading tokenizers-0.13.2-cp37-cp37m-manylinux_2_17_x86_64.manylinux2014_x86_64.whl (7.6 MB)\n",
            "\u001b[K     |████████████████████████████████| 7.6 MB 46.5 MB/s \n",
            "\u001b[?25hRequirement already satisfied: fsspec in /usr/local/lib/python3.7/dist-packages (from gramformer==1.0) (2022.10.0)\n",
            "Collecting errant\n",
            "  Downloading errant-2.3.3-py3-none-any.whl (499 kB)\n",
            "\u001b[K     |████████████████████████████████| 499 kB 50.4 MB/s \n",
            "\u001b[?25hCollecting rapidfuzz>=2.0.0\n",
            "  Downloading rapidfuzz-2.13.2-cp37-cp37m-manylinux_2_17_x86_64.manylinux2014_x86_64.whl (2.2 MB)\n",
            "\u001b[K     |████████████████████████████████| 2.2 MB 53.7 MB/s \n",
            "\u001b[?25hCollecting spacy<3,>=2.2.0\n",
            "  Downloading spacy-2.3.8-cp37-cp37m-manylinux_2_17_x86_64.manylinux2014_x86_64.whl (4.8 MB)\n",
            "\u001b[K     |████████████████████████████████| 4.8 MB 46.2 MB/s \n",
            "\u001b[?25hRequirement already satisfied: cymem<2.1.0,>=2.0.2 in /usr/local/lib/python3.7/dist-packages (from spacy<3,>=2.2.0->errant->gramformer==1.0) (2.0.7)\n",
            "Collecting srsly<1.1.0,>=1.0.2\n",
            "  Downloading srsly-1.0.6-cp37-cp37m-manylinux_2_17_x86_64.manylinux2014_x86_64.whl (208 kB)\n",
            "\u001b[K     |████████████████████████████████| 208 kB 54.4 MB/s \n",
            "\u001b[?25hRequirement already satisfied: requests<3.0.0,>=2.13.0 in /usr/local/lib/python3.7/dist-packages (from spacy<3,>=2.2.0->errant->gramformer==1.0) (2.23.0)\n",
            "Requirement already satisfied: setuptools in /usr/local/lib/python3.7/dist-packages (from spacy<3,>=2.2.0->errant->gramformer==1.0) (57.4.0)\n",
            "Collecting plac<1.2.0,>=0.9.6\n",
            "  Downloading plac-1.1.3-py2.py3-none-any.whl (20 kB)\n",
            "Requirement already satisfied: tqdm<5.0.0,>=4.38.0 in /usr/local/lib/python3.7/dist-packages (from spacy<3,>=2.2.0->errant->gramformer==1.0) (4.64.1)\n",
            "Requirement already satisfied: blis<0.8.0,>=0.4.0 in /usr/local/lib/python3.7/dist-packages (from spacy<3,>=2.2.0->errant->gramformer==1.0) (0.7.9)\n",
            "Requirement already satisfied: numpy>=1.15.0 in /usr/local/lib/python3.7/dist-packages (from spacy<3,>=2.2.0->errant->gramformer==1.0) (1.21.6)\n",
            "Requirement already satisfied: murmurhash<1.1.0,>=0.28.0 in /usr/local/lib/python3.7/dist-packages (from spacy<3,>=2.2.0->errant->gramformer==1.0) (1.0.9)\n",
            "Collecting catalogue<1.1.0,>=0.0.7\n",
            "  Downloading catalogue-1.0.2-py2.py3-none-any.whl (16 kB)\n",
            "Collecting thinc<7.5.0,>=7.4.1\n",
            "  Downloading thinc-7.4.6-cp37-cp37m-manylinux_2_17_x86_64.manylinux2014_x86_64.whl (1.0 MB)\n",
            "\u001b[K     |████████████████████████████████| 1.0 MB 51.9 MB/s \n",
            "\u001b[?25hRequirement already satisfied: preshed<3.1.0,>=3.0.2 in /usr/local/lib/python3.7/dist-packages (from spacy<3,>=2.2.0->errant->gramformer==1.0) (3.0.8)\n",
            "Requirement already satisfied: wasabi<1.1.0,>=0.4.0 in /usr/local/lib/python3.7/dist-packages (from spacy<3,>=2.2.0->errant->gramformer==1.0) (0.10.1)\n",
            "Requirement already satisfied: typing-extensions>=3.6.4 in /usr/local/lib/python3.7/dist-packages (from catalogue<1.1.0,>=0.0.7->spacy<3,>=2.2.0->errant->gramformer==1.0) (4.1.1)\n",
            "Requirement already satisfied: zipp>=0.5 in /usr/local/lib/python3.7/dist-packages (from catalogue<1.1.0,>=0.0.7->spacy<3,>=2.2.0->errant->gramformer==1.0) (3.10.0)\n",
            "Requirement already satisfied: urllib3!=1.25.0,!=1.25.1,<1.26,>=1.21.1 in /usr/local/lib/python3.7/dist-packages (from requests<3.0.0,>=2.13.0->spacy<3,>=2.2.0->errant->gramformer==1.0) (1.24.3)\n",
            "Requirement already satisfied: certifi>=2017.4.17 in /usr/local/lib/python3.7/dist-packages (from requests<3.0.0,>=2.13.0->spacy<3,>=2.2.0->errant->gramformer==1.0) (2022.9.24)\n",
            "Requirement already satisfied: idna<3,>=2.5 in /usr/local/lib/python3.7/dist-packages (from requests<3.0.0,>=2.13.0->spacy<3,>=2.2.0->errant->gramformer==1.0) (2.10)\n",
            "Requirement already satisfied: chardet<4,>=3.0.2 in /usr/local/lib/python3.7/dist-packages (from requests<3.0.0,>=2.13.0->spacy<3,>=2.2.0->errant->gramformer==1.0) (3.0.4)\n",
            "Collecting Levenshtein==0.20.8\n",
            "  Downloading Levenshtein-0.20.8-cp37-cp37m-manylinux_2_17_x86_64.manylinux2014_x86_64.whl (175 kB)\n",
            "\u001b[K     |████████████████████████████████| 175 kB 60.9 MB/s \n",
            "\u001b[?25hRequirement already satisfied: packaging>=20.0 in /usr/local/lib/python3.7/dist-packages (from transformers->gramformer==1.0) (21.3)\n",
            "Requirement already satisfied: regex!=2019.12.17 in /usr/local/lib/python3.7/dist-packages (from transformers->gramformer==1.0) (2022.6.2)\n",
            "Requirement already satisfied: filelock in /usr/local/lib/python3.7/dist-packages (from transformers->gramformer==1.0) (3.8.0)\n",
            "Requirement already satisfied: importlib-metadata in /usr/local/lib/python3.7/dist-packages (from transformers->gramformer==1.0) (4.13.0)\n",
            "Collecting huggingface-hub<1.0,>=0.10.0\n",
            "  Downloading huggingface_hub-0.11.0-py3-none-any.whl (182 kB)\n",
            "\u001b[K     |████████████████████████████████| 182 kB 57.1 MB/s \n",
            "\u001b[?25hRequirement already satisfied: pyyaml>=5.1 in /usr/local/lib/python3.7/dist-packages (from transformers->gramformer==1.0) (6.0)\n",
            "Requirement already satisfied: pyparsing!=3.0.5,>=2.0.2 in /usr/local/lib/python3.7/dist-packages (from packaging>=20.0->transformers->gramformer==1.0) (3.0.9)\n",
            "Building wheels for collected packages: gramformer\n",
            "  Building wheel for gramformer (setup.py) ... \u001b[?25l\u001b[?25hdone\n",
            "  Created wheel for gramformer: filename=gramformer-1.0-py3-none-any.whl size=4484 sha256=08272a5c0e2940acc3952ca1f98ea9cfddc5ea41ca40f137a4b58794f65bef93\n",
            "  Stored in directory: /tmp/pip-ephem-wheel-cache-zapnso__/wheels/c1/f6/04/a7ceda8a8c1d494a3523957d61eb6dfe428568b1af0b9d508c\n",
            "Successfully built gramformer\n",
            "Installing collected packages: srsly, plac, catalogue, thinc, rapidfuzz, tokenizers, spacy, Levenshtein, huggingface-hub, transformers, sentencepiece, python-Levenshtein, fuzzywuzzy, errant, gramformer\n",
            "  Attempting uninstall: srsly\n",
            "    Found existing installation: srsly 2.4.5\n",
            "    Uninstalling srsly-2.4.5:\n",
            "      Successfully uninstalled srsly-2.4.5\n",
            "  Attempting uninstall: catalogue\n",
            "    Found existing installation: catalogue 2.0.8\n",
            "    Uninstalling catalogue-2.0.8:\n",
            "      Successfully uninstalled catalogue-2.0.8\n",
            "  Attempting uninstall: thinc\n",
            "    Found existing installation: thinc 8.1.5\n",
            "    Uninstalling thinc-8.1.5:\n",
            "      Successfully uninstalled thinc-8.1.5\n",
            "  Attempting uninstall: spacy\n",
            "    Found existing installation: spacy 3.4.2\n",
            "    Uninstalling spacy-3.4.2:\n",
            "      Successfully uninstalled spacy-3.4.2\n",
            "\u001b[31mERROR: pip's dependency resolver does not currently take into account all the packages that are installed. This behaviour is the source of the following dependency conflicts.\n",
            "en-core-web-sm 3.4.1 requires spacy<3.5.0,>=3.4.0, but you have spacy 2.3.8 which is incompatible.\n",
            "confection 0.0.3 requires srsly<3.0.0,>=2.4.0, but you have srsly 1.0.6 which is incompatible.\u001b[0m\n",
            "Successfully installed Levenshtein-0.20.8 catalogue-1.0.2 errant-2.3.3 fuzzywuzzy-0.18.0 gramformer-1.0 huggingface-hub-0.11.0 plac-1.1.3 python-Levenshtein-0.20.8 rapidfuzz-2.13.2 sentencepiece-0.1.97 spacy-2.3.8 srsly-1.0.6 thinc-7.4.6 tokenizers-0.13.2 transformers-4.24.0\n"
          ]
        }
      ]
    },
    {
      "cell_type": "code",
      "metadata": {
        "id": "EawkFH0PjoPv"
      },
      "source": [
        "from gramformer import Gramformer\n",
        "import torch\n",
        "\n",
        "def set_seed(seed):\n",
        "  torch.manual_seed(seed)\n",
        "  if torch.cuda.is_available():\n",
        "    torch.cuda.manual_seed_all(seed)\n"
      ],
      "execution_count": null,
      "outputs": []
    },
    {
      "cell_type": "code",
      "source": [
        "gf = Gramformer(models = 2, use_gpu=False) # 0=detector, 1=highlighter, 2=corrector, 3=all \n"
      ],
      "metadata": {
        "id": "MLCZz2WZ3MNv"
      },
      "execution_count": null,
      "outputs": []
    },
    {
      "cell_type": "code",
      "metadata": {
        "id": "xYZqNY4nu8ws"
      },
      "source": [
        "PATH = \"/content/sample_data/gf.pth\"\n"
      ],
      "execution_count": null,
      "outputs": []
    },
    {
      "cell_type": "code",
      "metadata": {
        "id": "swwpt2Tet6xc"
      },
      "source": [
        "torch.save(gf, PATH)\n"
      ],
      "execution_count": null,
      "outputs": []
    },
    {
      "cell_type": "code",
      "metadata": {
        "id": "kXHX7IpVvXwa"
      },
      "source": [
        "gf_inference = torch.load(PATH)\n"
      ],
      "execution_count": null,
      "outputs": []
    },
    {
      "cell_type": "code",
      "metadata": {
        "id": "HdH0wCrEZkSp"
      },
      "source": [
        "influent_sentences = [\n",
        "    \"India is the good country for cricket games\",\n",
        "    \"United States has offer help to India\"\n",
        "]   "
      ],
      "execution_count": null,
      "outputs": []
    },
    {
      "cell_type": "markdown",
      "source": [
        "\n",
        "\n",
        "for influent_sentence in influent_sentences:\n",
        "    corrected_sentence = gf_inference.correct(influent_sentence)\n",
        "    print(\"[Input] \", influent_sentence)\n",
        "    print(\"[Correction] \",corrected_sentence[0])\n",
        "    print(\"-\" *100)"
      ],
      "metadata": {
        "id": "8ScQw1C1n93Q"
      }
    },
    {
      "cell_type": "code",
      "metadata": {
        "id": "DnDTP7vnoo5s"
      },
      "source": [
        "influent_sentences = [\n",
        "          \"Hello wrld.\",\n",
        "          \"It's all wrog. please corrct it with gammarly.\",\n",
        "          \"It's all wrog. please corrct it with gammarly.\",\n",
        "          \"It's all wrog. please corrct it with gammarly.\",\n",
        "          \"it will be vry hlpfull.\",\n",
        "          \"I am the fullstack developer.\",\n",
        "]   \n",
        "\n",
        "for influent_sentence in influent_sentences:\n",
        "    corrected_sentence = gf_inference.correct(influent_sentence)\n",
        "    print(\"[Input] \", influent_sentence)\n",
        "    print(\"[Correction] \",corrected_sentence[0])\n",
        "    print(\"-\" *100)\n"
      ],
      "execution_count": 6,
      "outputs": []
    },
    {
      "cell_type": "code",
      "metadata": {
        "colab": {
          "base_uri": "https://localhost:8080/"
        },
        "id": "9L2Gsyj6vnji",
        "outputId": "c205b90c-9f7d-4b98-d382-63be1a2a31b5"
      },
      "source": [
        "!pip install colabcode -q \n",
        "!pip install fastapi -q "
      ],
      "execution_count": 23,
      "outputs": [
        {
          "output_type": "stream",
          "name": "stdout",
          "text": [
            "\u001b[K     |████████████████████████████████| 45 kB 3.1 MB/s \n",
            "\u001b[K     |████████████████████████████████| 8.3 MB 39.9 MB/s \n",
            "\u001b[K     |████████████████████████████████| 423 kB 44.3 MB/s \n",
            "\u001b[K     |████████████████████████████████| 9.8 MB 35.2 MB/s \n",
            "\u001b[K     |████████████████████████████████| 346 kB 68.5 MB/s \n",
            "\u001b[K     |████████████████████████████████| 54 kB 2.9 MB/s \n",
            "\u001b[K     |████████████████████████████████| 55 kB 4.4 MB/s \n",
            "\u001b[K     |████████████████████████████████| 273 kB 58.4 MB/s \n",
            "\u001b[K     |████████████████████████████████| 133 kB 58.1 MB/s \n",
            "\u001b[K     |████████████████████████████████| 9.8 MB 51.5 MB/s \n",
            "\u001b[K     |████████████████████████████████| 9.8 MB 53.0 MB/s \n",
            "\u001b[K     |████████████████████████████████| 9.8 MB 55.2 MB/s \n",
            "\u001b[K     |████████████████████████████████| 9.8 MB 62.2 MB/s \n",
            "\u001b[K     |████████████████████████████████| 9.7 MB 56.5 MB/s \n",
            "\u001b[K     |████████████████████████████████| 9.7 MB 50.6 MB/s \n",
            "\u001b[K     |████████████████████████████████| 9.7 MB 50.6 MB/s \n",
            "\u001b[K     |████████████████████████████████| 71 kB 240 kB/s \n",
            "\u001b[K     |████████████████████████████████| 107 kB 48.6 MB/s \n",
            "\u001b[K     |████████████████████████████████| 439 kB 57.7 MB/s \n",
            "\u001b[K     |████████████████████████████████| 439 kB 68.9 MB/s \n",
            "\u001b[K     |████████████████████████████████| 9.9 MB 68.5 MB/s \n",
            "\u001b[K     |████████████████████████████████| 9.9 MB 56.9 MB/s \n",
            "\u001b[K     |████████████████████████████████| 9.9 MB 46.0 MB/s \n",
            "\u001b[K     |████████████████████████████████| 9.9 MB 54.2 MB/s \n",
            "\u001b[K     |████████████████████████████████| 9.9 MB 54.1 MB/s \n",
            "\u001b[K     |████████████████████████████████| 9.9 MB 61.5 MB/s \n",
            "\u001b[K     |████████████████████████████████| 9.9 MB 53.6 MB/s \n",
            "\u001b[K     |████████████████████████████████| 9.9 MB 59.6 MB/s \n",
            "\u001b[K     |████████████████████████████████| 86 kB 6.2 MB/s \n",
            "\u001b[K     |████████████████████████████████| 1.6 MB 50.1 MB/s \n",
            "\u001b[31mERROR: pip's dependency resolver does not currently take into account all the packages that are installed. This behaviour is the source of the following dependency conflicts.\n",
            "google-colab 1.0.0 requires notebook~=5.7.16, but you have notebook 6.4.5 which is incompatible.\n",
            "google-colab 1.0.0 requires tornado~=6.0.4, but you have tornado 6.2 which is incompatible.\n",
            "flask 1.1.4 requires Jinja2<3.0,>=2.10.1, but you have jinja2 3.1.2 which is incompatible.\u001b[0m\n",
            "\u001b[?25h"
          ]
        }
      ]
    },
    {
      "cell_type": "code",
      "metadata": {
        "id": "tPiW_GmD68le"
      },
      "source": [
        "from colabcode import ColabCode\n",
        "from fastapi import FastAPI"
      ],
      "execution_count": 22,
      "outputs": []
    },
    {
      "cell_type": "code",
      "metadata": {
        "id": "tDZz1dZ97OWx"
      },
      "source": [
        "cc = ColabCode(port=12000, code=False)"
      ],
      "execution_count": null,
      "outputs": []
    },
    {
      "cell_type": "code",
      "metadata": {
        "id": "ZxZAshbL7UXt",
        "colab": {
          "base_uri": "https://localhost:8080/"
        },
        "outputId": "7470a3aa-62e7-4949-b77a-779b3be2784a"
      },
      "source": [
        "!pip install nest_asyncio\n",
        "!pip install pyngrok\n",
        "app = FastAPI(title=\"Grammerly clone\", description=\"Gramformer & FastAPI\", version=\"1.0\")\n",
        "\n",
        "\n",
        "\n",
        "gf_inference = None\n",
        "\n",
        "@app.on_event(\"startup\")\n",
        "def load_model():\n",
        "    global gf_inference\n",
        "    gf_inference = torch.load(PATH)\n",
        "\n",
        "@app.post(\"/api/{sentence}\")\n",
        "async def get_predictions(sentence: str):\n",
        "    try:\n",
        "       # sentence = \"This isn't how I like to ate food but that's what life give me\"\n",
        "        output_sentence = gf_inference.correct(sentence)\n",
        "        return {\"prediction\": output_sentence[0]}\n",
        "    except:\n",
        "        my_logger.error(\"Something went wrong!\")\n",
        "        return {\"prediction\": \"error\"}"
      ],
      "execution_count": 20,
      "outputs": [
        {
          "output_type": "stream",
          "name": "stdout",
          "text": [
            "Looking in indexes: https://pypi.org/simple, https://us-python.pkg.dev/colab-wheels/public/simple/\n",
            "Collecting nest_asyncio\n",
            "  Downloading nest_asyncio-1.5.6-py3-none-any.whl (5.2 kB)\n",
            "Installing collected packages: nest-asyncio\n",
            "Successfully installed nest-asyncio-1.5.6\n",
            "Looking in indexes: https://pypi.org/simple, https://us-python.pkg.dev/colab-wheels/public/simple/\n",
            "Collecting pyngrok\n",
            "  Downloading pyngrok-5.1.0.tar.gz (745 kB)\n",
            "\u001b[K     |████████████████████████████████| 745 kB 31.1 MB/s \n",
            "\u001b[?25hRequirement already satisfied: PyYAML in /usr/local/lib/python3.7/dist-packages (from pyngrok) (6.0)\n",
            "Building wheels for collected packages: pyngrok\n",
            "  Building wheel for pyngrok (setup.py) ... \u001b[?25l\u001b[?25hdone\n",
            "  Created wheel for pyngrok: filename=pyngrok-5.1.0-py3-none-any.whl size=19007 sha256=8dcc54dc4c31763629c4d2d244749c104d3eacda249f456fc67e434b77cae253\n",
            "  Stored in directory: /root/.cache/pip/wheels/bf/e6/af/ccf6598ecefecd44104069371795cb9b3afbcd16987f6ccfb3\n",
            "Successfully built pyngrok\n",
            "Installing collected packages: pyngrok\n",
            "Successfully installed pyngrok-5.1.0\n"
          ]
        }
      ]
    },
    {
      "cell_type": "code",
      "metadata": {
        "colab": {
          "base_uri": "https://localhost:8080/"
        },
        "id": "gj-ns4VU_NXW",
        "outputId": "f331d096-9ea8-4176-96a1-2f1c68e8d31c"
      },
      "source": [
        "cc.run_app(app=app)"
      ],
      "execution_count": 21,
      "outputs": [
        {
          "output_type": "stream",
          "name": "stdout",
          "text": []
        },
        {
          "output_type": "stream",
          "name": "stderr",
          "text": [
            "INFO:     Started server process [75]\n",
            "INFO:     Waiting for application startup.\n",
            "INFO:     Application startup complete.\n",
            "INFO:     Uvicorn running on http://127.0.0.1:8000 (Press CTRL+C to quit)\n"
          ]
        },
        {
          "output_type": "stream",
          "name": "stdout",
          "text": [
            "Public URL: http://af88-35-245-161-66.ngrok.io\n"
          ]
        },
        {
          "output_type": "stream",
          "name": "stderr",
          "text": [
            "INFO:     Shutting down\n",
            "INFO:     Waiting for application shutdown.\n",
            "INFO:     Application shutdown complete.\n",
            "INFO:     Finished server process [75]\n"
          ]
        }
      ]
    },
    {
      "cell_type": "code",
      "metadata": {
        "id": "fRiDTAXWASkm"
      },
      "source": [],
      "execution_count": null,
      "outputs": []
    }
  ]
}